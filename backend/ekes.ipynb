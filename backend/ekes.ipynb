{
 "cells": [
  {
   "cell_type": "markdown",
   "id": "0a1e2b29",
   "metadata": {},
   "source": [
    "Source : https://huggingface.co/nateraw/vit-age-classifier"
   ]
  },
  {
   "cell_type": "code",
   "execution_count": 1,
   "id": "d5979b34",
   "metadata": {},
   "outputs": [
    {
     "name": "stderr",
     "output_type": "stream",
     "text": [
      "c:\\Users\\my pc\\Desktop\\IS\\age-halation\\venv\\Lib\\site-packages\\tqdm\\auto.py:21: TqdmWarning: IProgress not found. Please update jupyter and ipywidgets. See https://ipywidgets.readthedocs.io/en/stable/user_install.html\n",
      "  from .autonotebook import tqdm as notebook_tqdm\n",
      "Fast image processor class <class 'transformers.models.vit.image_processing_vit_fast.ViTImageProcessorFast'> is available for this model. Using slow image processor class. To use the fast image processor class set `use_fast=True`.\n"
     ]
    }
   ],
   "source": [
    "# Load model directly\n",
    "from transformers import AutoImageProcessor, AutoModelForImageClassification\n",
    "\n",
    "processor = AutoImageProcessor.from_pretrained(\"nateraw/vit-age-classifier\")\n",
    "model = AutoModelForImageClassification.from_pretrained(\"nateraw/vit-age-classifier\")"
   ]
  },
  {
   "cell_type": "code",
   "execution_count": 2,
   "id": "c722e6a7",
   "metadata": {},
   "outputs": [
    {
     "name": "stdout",
     "output_type": "stream",
     "text": [
      "50-59\n"
     ]
    }
   ],
   "source": [
    "from PIL import Image\n",
    "import torch\n",
    "# Load your own image\n",
    "image = Image.open(\"Robert_De_Niro_KVIFF_portrait.jpg\")  # <-- put your image path here\n",
    "\n",
    "# Preprocess the image\n",
    "inputs = processor(image, return_tensors=\"pt\")\n",
    "\n",
    "# Forward pass\n",
    "with torch.no_grad():\n",
    "    logits = model(**inputs).logits\n",
    "\n",
    "# Get predicted label\n",
    "predicted_label = logits.argmax(-1).item()\n",
    "print(model.config.id2label[predicted_label])\n"
   ]
  },
  {
   "cell_type": "code",
   "execution_count": 3,
   "id": "63120b3d",
   "metadata": {},
   "outputs": [
    {
     "name": "stdout",
     "output_type": "stream",
     "text": [
      "Processor saved in 'processor_directory'\n",
      "Model saved as vit_age_classifier.pkl\n"
     ]
    }
   ],
   "source": [
    "import torch\n",
    "\n",
    "# Save the processor\n",
    "processor.save_pretrained(\"processor_directory\")\n",
    "print(\"Processor saved in 'processor_directory'\")\n",
    "torch.save(model.state_dict(), \"vit_age_classifier.pkl\")\n",
    "print(\"Model saved as vit_age_classifier.pkl\")"
   ]
  },
  {
   "cell_type": "code",
   "execution_count": 4,
   "id": "ba4f7f04",
   "metadata": {},
   "outputs": [
    {
     "name": "stderr",
     "output_type": "stream",
     "text": [
      "Using a slow image processor as `use_fast` is unset and a slow processor was saved with this model. `use_fast=True` will be the default behavior in v4.52, even if the model was saved with a slow processor. This will result in minor differences in outputs. You'll still be able to use a slow processor with `use_fast=False`.\n"
     ]
    },
    {
     "name": "stdout",
     "output_type": "stream",
     "text": [
      "Processor loaded successfully from 'processor_directory'\n",
      "Model loaded successfully from vit_age_classifier.pkl\n"
     ]
    }
   ],
   "source": [
    "# Import necessary libraries\n",
    "import torch\n",
    "from transformers import AutoModelForImageClassification, AutoImageProcessor\n",
    "\n",
    "# Load the processor\n",
    "loaded_processor = AutoImageProcessor.from_pretrained(\"processor_directory\")\n",
    "print(\"Processor loaded successfully from 'processor_directory'\")\n",
    "\n",
    "# Initialize the model\n",
    "loaded_model = AutoModelForImageClassification.from_pretrained(\"nateraw/vit-age-classifier\")\n",
    "\n",
    "# Load the saved state dictionary\n",
    "loaded_model.load_state_dict(torch.load(\"vit_age_classifier.pkl\"))\n",
    "\n",
    "# Set the model to evaluation mode\n",
    "loaded_model.eval()\n",
    "\n",
    "print(\"Model loaded successfully from vit_age_classifier.pkl\")"
   ]
  },
  {
   "cell_type": "code",
   "execution_count": 5,
   "id": "b8e0ea39",
   "metadata": {},
   "outputs": [
    {
     "name": "stdout",
     "output_type": "stream",
     "text": [
      "50-59\n"
     ]
    }
   ],
   "source": [
    "from PIL import Image\n",
    "import torch\n",
    "# Load your own image\n",
    "image = Image.open(\"Robert_De_Niro_KVIFF_portrait.jpg\")  # <-- put your image path here\n",
    "\n",
    "# Preprocess the image\n",
    "inputs = loaded_processor(image, return_tensors=\"pt\")\n",
    "\n",
    "# Forward pass\n",
    "with torch.no_grad():\n",
    "    logits = loaded_model(**inputs).logits\n",
    "\n",
    "# Get predicted label\n",
    "predicted_label = logits.argmax(-1).item()\n",
    "print(loaded_model.config.id2label[predicted_label])\n"
   ]
  },
  {
   "cell_type": "code",
   "execution_count": null,
   "id": "f1f8df2e",
   "metadata": {},
   "outputs": [],
   "source": []
  }
 ],
 "metadata": {
  "kernelspec": {
   "display_name": "venv",
   "language": "python",
   "name": "python3"
  },
  "language_info": {
   "codemirror_mode": {
    "name": "ipython",
    "version": 3
   },
   "file_extension": ".py",
   "mimetype": "text/x-python",
   "name": "python",
   "nbconvert_exporter": "python",
   "pygments_lexer": "ipython3",
   "version": "3.11.9"
  }
 },
 "nbformat": 4,
 "nbformat_minor": 5
}
